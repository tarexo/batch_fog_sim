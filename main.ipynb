{
 "cells": [
  {
   "attachments": {},
   "cell_type": "markdown",
   "metadata": {},
   "source": [
    "# This notebook enables the augmentation of lidar point clouds, adding fog"
   ]
  },
  {
   "cell_type": "code",
   "execution_count": null,
   "metadata": {},
   "outputs": [],
   "source": [
    "import numpy as np\n",
    "from tqdm import tqdm\n",
    "from pathlib import Path\n",
    "from helper.paths import paths\n",
    "from classes.parameter_set import ParameterSet\n",
    "from helper.fog_simulation import FogSimulation\n",
    "from helper.pointcloud_io import load_pointcloud, write_pointcloud\n",
    "from helper.file_lists import load_file_paths_from_dir\n"
   ]
  },
  {
   "cell_type": "code",
   "execution_count": null,
   "metadata": {},
   "outputs": [],
   "source": [
    "CWD = Path.cwd()\n",
    "DELFT_TRAINING = Path(paths[\"DELFT_TRAINING\"])\n",
    "ORIGINAL_PATH = CWD / \"data\" / \"original\"\n",
    "FOGGY_PATH = CWD / \"data\" / \"foggy\"\n",
    "FILE_LIST_KITTI = CWD / \"file_lists\" / \"KITTI.txt\"\n",
    "\n",
    "color_feature = 2\n",
    "color_dict = {\n",
    "    0: \"x\",\n",
    "    1: \"y\",\n",
    "    2: \"z\",\n",
    "    3: \"intensity\",\n",
    "    4: \"distance\",\n",
    "    5: \"angle\",\n",
    "    6: \"channel\",\n",
    "}\n",
    "color_name = color_dict[color_feature]\n",
    "\n",
    "# Default settings\n",
    "noise = 10\n",
    "noise_variant = \"v4\"\n",
    "gain = True\n",
    "p = ParameterSet(\n",
    "    gamma=0.000001,\n",
    "    gamma_min=0.0000001,\n",
    "    gamma_max=0.00001,\n",
    "    gamma_scale=10000000,\n",
    "    \n",
    ")\n",
    "alpha = 0.006\n",
    "p.set_params(alpha)\n",
    "\n",
    "# Fog sim\n",
    "INTEGRAL_PATH = CWD / \"integral_lookup_tables\" / \"original\"\n",
    "AVAILABLE_TAU_Hs = [20]\n",
    "RNG = np.random.default_rng(seed=42)\n",
    "fog_sim = FogSimulation(INTEGRAL_PATH, AVAILABLE_TAU_Hs, RNG)\n",
    "\n",
    "\n",
    "# KITTI settings\n",
    "dataset = \"KITTI\"\n",
    "min_value = -1\n",
    "max_value = -1\n",
    "num_features = 4\n",
    "extension = \"bin\"\n",
    "d_type = np.float32\n",
    "# intensity_multiplier = 255\n",
    "intensity_multiplier = 1 # For delft\n",
    "color_dict[6] = \"not available\"\n"
   ]
  },
  {
   "cell_type": "code",
   "execution_count": null,
   "metadata": {},
   "outputs": [],
   "source": [
    "file_list = load_file_paths_from_dir(data_path=DELFT_TRAINING/\"velodyne\")\n",
    "for alpha in [0.06]: # Paper: 0.005, 0.01, 0.02, 0.03, 0.06\n",
    "    print(f\"Alpha: {alpha}\")\n",
    "    p.set_params(alpha)\n",
    "    Path(DELFT_TRAINING/f\"velodyne_fog_{alpha}\").mkdir(exist_ok=True)\n",
    "    for file_path in tqdm(file_list):\n",
    "        file_name = file_path.split(\"/\")[-1]\n",
    "        current_pc = load_pointcloud(file_path, color_dict, color_feature, d_type, num_features, intensity_multiplier)\n",
    "        pc, simulated_fog_pc, info_dict = fog_sim.simulate_fog(p, current_pc, noise, gain, noise_variant)\n",
    "        write_pointcloud(pc, DELFT_TRAINING/f\"velodyne_fog_{alpha}\", file_name)\n",
    "\n"
   ]
  }
 ],
 "metadata": {
  "kernelspec": {
   "display_name": "foggy_lidar",
   "language": "python",
   "name": "python3"
  },
  "language_info": {
   "codemirror_mode": {
    "name": "ipython",
    "version": 3
   },
   "file_extension": ".py",
   "mimetype": "text/x-python",
   "name": "python",
   "nbconvert_exporter": "python",
   "pygments_lexer": "ipython3",
   "version": "3.11.3"
  },
  "orig_nbformat": 4
 },
 "nbformat": 4,
 "nbformat_minor": 2
}
